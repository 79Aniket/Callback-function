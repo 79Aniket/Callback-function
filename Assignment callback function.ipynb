{
 "cells": [
  {
   "cell_type": "code",
   "execution_count": 1,
   "id": "4a9d6b60-4050-4c62-a283-cb2405308c66",
   "metadata": {},
   "outputs": [
    {
     "name": "stdout",
     "output_type": "stream",
     "text": [
      "Collecting tensorflow\n",
      "  Downloading tensorflow-2.15.0.post1-cp310-cp310-manylinux_2_17_x86_64.manylinux2014_x86_64.whl (475.2 MB)\n",
      "\u001b[2K     \u001b[90m━━━━━━━━━━━━━━━━━━━━━━━━━━━━━━━━━━━━━━━\u001b[0m \u001b[32m475.2/475.2 MB\u001b[0m \u001b[31m3.0 MB/s\u001b[0m eta \u001b[36m0:00:00\u001b[0m00:01\u001b[0m00:01\u001b[0m\n",
      "\u001b[?25hCollecting opt-einsum>=2.3.2\n",
      "  Downloading opt_einsum-3.3.0-py3-none-any.whl (65 kB)\n",
      "\u001b[2K     \u001b[90m━━━━━━━━━━━━━━━━━━━━━━━━━━━━━━━━━━━━━━━━\u001b[0m \u001b[32m65.5/65.5 kB\u001b[0m \u001b[31m11.2 MB/s\u001b[0m eta \u001b[36m0:00:00\u001b[0m\n",
      "\u001b[?25hRequirement already satisfied: h5py>=2.9.0 in /opt/conda/lib/python3.10/site-packages (from tensorflow) (3.7.0)\n",
      "Collecting tensorflow-estimator<2.16,>=2.15.0\n",
      "  Downloading tensorflow_estimator-2.15.0-py2.py3-none-any.whl (441 kB)\n",
      "\u001b[2K     \u001b[90m━━━━━━━━━━━━━━━━━━━━━━━━━━━━━━━━━━━━━━\u001b[0m \u001b[32m442.0/442.0 kB\u001b[0m \u001b[31m39.5 MB/s\u001b[0m eta \u001b[36m0:00:00\u001b[0m\n",
      "\u001b[?25hRequirement already satisfied: numpy<2.0.0,>=1.23.5 in /opt/conda/lib/python3.10/site-packages (from tensorflow) (1.23.5)\n",
      "Requirement already satisfied: setuptools in /opt/conda/lib/python3.10/site-packages (from tensorflow) (65.5.1)\n",
      "Collecting ml-dtypes~=0.2.0\n",
      "  Downloading ml_dtypes-0.2.0-cp310-cp310-manylinux_2_17_x86_64.manylinux2014_x86_64.whl (1.0 MB)\n",
      "\u001b[2K     \u001b[90m━━━━━━━━━━━━━━━━━━━━━━━━━━━━━━━━━━━━━━━━\u001b[0m \u001b[32m1.0/1.0 MB\u001b[0m \u001b[31m61.9 MB/s\u001b[0m eta \u001b[36m0:00:00\u001b[0m\n",
      "\u001b[?25hRequirement already satisfied: packaging in /opt/conda/lib/python3.10/site-packages (from tensorflow) (22.0)\n",
      "Collecting keras<2.16,>=2.15.0\n",
      "  Downloading keras-2.15.0-py3-none-any.whl (1.7 MB)\n",
      "\u001b[2K     \u001b[90m━━━━━━━━━━━━━━━━━━━━━━━━━━━━━━━━━━━━━━━━\u001b[0m \u001b[32m1.7/1.7 MB\u001b[0m \u001b[31m67.2 MB/s\u001b[0m eta \u001b[36m0:00:00\u001b[0m\n",
      "\u001b[?25hCollecting libclang>=13.0.0\n",
      "  Downloading libclang-16.0.6-py2.py3-none-manylinux2010_x86_64.whl (22.9 MB)\n",
      "\u001b[2K     \u001b[90m━━━━━━━━━━━━━━━━━━━━━━━━━━━━━━━━━━━━━━━━\u001b[0m \u001b[32m22.9/22.9 MB\u001b[0m \u001b[31m49.7 MB/s\u001b[0m eta \u001b[36m0:00:00\u001b[0m00:01\u001b[0m00:01\u001b[0m\n",
      "\u001b[?25hCollecting flatbuffers>=23.5.26\n",
      "  Downloading flatbuffers-23.5.26-py2.py3-none-any.whl (26 kB)\n",
      "Collecting astunparse>=1.6.0\n",
      "  Downloading astunparse-1.6.3-py2.py3-none-any.whl (12 kB)\n",
      "Requirement already satisfied: protobuf!=4.21.0,!=4.21.1,!=4.21.2,!=4.21.3,!=4.21.4,!=4.21.5,<5.0.0dev,>=3.20.3 in /opt/conda/lib/python3.10/site-packages (from tensorflow) (4.21.11)\n",
      "Collecting grpcio<2.0,>=1.24.3\n",
      "  Downloading grpcio-1.60.0-cp310-cp310-manylinux_2_17_x86_64.manylinux2014_x86_64.whl (5.4 MB)\n",
      "\u001b[2K     \u001b[90m━━━━━━━━━━━━━━━━━━━━━━━━━━━━━━━━━━━━━━━━\u001b[0m \u001b[32m5.4/5.4 MB\u001b[0m \u001b[31m72.8 MB/s\u001b[0m eta \u001b[36m0:00:00\u001b[0m:00:01\u001b[0m00:01\u001b[0m\n",
      "\u001b[?25hRequirement already satisfied: typing-extensions>=3.6.6 in /opt/conda/lib/python3.10/site-packages (from tensorflow) (4.4.0)\n",
      "Collecting tensorflow-io-gcs-filesystem>=0.23.1\n",
      "  Downloading tensorflow_io_gcs_filesystem-0.35.0-cp310-cp310-manylinux_2_17_x86_64.manylinux2014_x86_64.whl (3.2 MB)\n",
      "\u001b[2K     \u001b[90m━━━━━━━━━━━━━━━━━━━━━━━━━━━━━━━━━━━━━━━━\u001b[0m \u001b[32m3.2/3.2 MB\u001b[0m \u001b[31m75.5 MB/s\u001b[0m eta \u001b[36m0:00:00\u001b[0m:00:01\u001b[0m\n",
      "\u001b[?25hCollecting tensorboard<2.16,>=2.15\n",
      "  Downloading tensorboard-2.15.1-py3-none-any.whl (5.5 MB)\n",
      "\u001b[2K     \u001b[90m━━━━━━━━━━━━━━━━━━━━━━━━━━━━━━━━━━━━━━━━\u001b[0m \u001b[32m5.5/5.5 MB\u001b[0m \u001b[31m70.1 MB/s\u001b[0m eta \u001b[36m0:00:00\u001b[0m00:01\u001b[0m:00:01\u001b[0m\n",
      "\u001b[?25hCollecting wrapt<1.15,>=1.11.0\n",
      "  Downloading wrapt-1.14.1-cp310-cp310-manylinux_2_5_x86_64.manylinux1_x86_64.manylinux_2_17_x86_64.manylinux2014_x86_64.whl (77 kB)\n",
      "\u001b[2K     \u001b[90m━━━━━━━━━━━━━━━━━━━━━━━━━━━━━━━━━━━━━━━━\u001b[0m \u001b[32m77.9/77.9 kB\u001b[0m \u001b[31m12.3 MB/s\u001b[0m eta \u001b[36m0:00:00\u001b[0m\n",
      "\u001b[?25hCollecting absl-py>=1.0.0\n",
      "  Downloading absl_py-2.0.0-py3-none-any.whl (130 kB)\n",
      "\u001b[2K     \u001b[90m━━━━━━━━━━━━━━━━━━━━━━━━━━━━━━━━━━━━━━\u001b[0m \u001b[32m130.2/130.2 kB\u001b[0m \u001b[31m18.2 MB/s\u001b[0m eta \u001b[36m0:00:00\u001b[0m\n",
      "\u001b[?25hCollecting google-pasta>=0.1.1\n",
      "  Downloading google_pasta-0.2.0-py3-none-any.whl (57 kB)\n",
      "\u001b[2K     \u001b[90m━━━━━━━━━━━━━━━━━━━━━━━━━━━━━━━━━━━━━━━━\u001b[0m \u001b[32m57.5/57.5 kB\u001b[0m \u001b[31m8.6 MB/s\u001b[0m eta \u001b[36m0:00:00\u001b[0m\n",
      "\u001b[?25hRequirement already satisfied: six>=1.12.0 in /opt/conda/lib/python3.10/site-packages (from tensorflow) (1.16.0)\n",
      "Collecting gast!=0.5.0,!=0.5.1,!=0.5.2,>=0.2.1\n",
      "  Downloading gast-0.5.4-py3-none-any.whl (19 kB)\n",
      "Collecting termcolor>=1.1.0\n",
      "  Downloading termcolor-2.4.0-py3-none-any.whl (7.7 kB)\n",
      "Requirement already satisfied: wheel<1.0,>=0.23.0 in /opt/conda/lib/python3.10/site-packages (from astunparse>=1.6.0->tensorflow) (0.38.4)\n",
      "Collecting google-auth-oauthlib<2,>=0.5\n",
      "  Downloading google_auth_oauthlib-1.2.0-py2.py3-none-any.whl (24 kB)\n",
      "Collecting markdown>=2.6.8\n",
      "  Downloading Markdown-3.5.2-py3-none-any.whl (103 kB)\n",
      "\u001b[2K     \u001b[90m━━━━━━━━━━━━━━━━━━━━━━━━━━━━━━━━━━━━━━━\u001b[0m \u001b[32m103.9/103.9 kB\u001b[0m \u001b[31m8.2 MB/s\u001b[0m eta \u001b[36m0:00:00\u001b[0m\n",
      "\u001b[?25hCollecting tensorboard-data-server<0.8.0,>=0.7.0\n",
      "  Downloading tensorboard_data_server-0.7.2-py3-none-manylinux_2_31_x86_64.whl (6.6 MB)\n",
      "\u001b[2K     \u001b[90m━━━━━━━━━━━━━━━━━━━━━━━━━━━━━━━━━━━━━━━━\u001b[0m \u001b[32m6.6/6.6 MB\u001b[0m \u001b[31m57.0 MB/s\u001b[0m eta \u001b[36m0:00:00\u001b[0m00:01\u001b[0m00:01\u001b[0m\n",
      "\u001b[?25hCollecting google-auth<3,>=1.6.3\n",
      "  Downloading google_auth-2.26.2-py2.py3-none-any.whl (186 kB)\n",
      "\u001b[2K     \u001b[90m━━━━━━━━━━━━━━━━━━━━━━━━━━━━━━━━━━━━━━\u001b[0m \u001b[32m186.5/186.5 kB\u001b[0m \u001b[31m27.7 MB/s\u001b[0m eta \u001b[36m0:00:00\u001b[0m\n",
      "\u001b[?25hRequirement already satisfied: requests<3,>=2.21.0 in /opt/conda/lib/python3.10/site-packages (from tensorboard<2.16,>=2.15->tensorflow) (2.28.1)\n",
      "Collecting werkzeug>=1.0.1\n",
      "  Downloading werkzeug-3.0.1-py3-none-any.whl (226 kB)\n",
      "\u001b[2K     \u001b[90m━━━━━━━━━━━━━━━━━━━━━━━━━━━━━━━━━━━━━━\u001b[0m \u001b[32m226.7/226.7 kB\u001b[0m \u001b[31m20.2 MB/s\u001b[0m eta \u001b[36m0:00:00\u001b[0m\n",
      "\u001b[?25hCollecting pyasn1-modules>=0.2.1\n",
      "  Downloading pyasn1_modules-0.3.0-py2.py3-none-any.whl (181 kB)\n",
      "\u001b[2K     \u001b[90m━━━━━━━━━━━━━━━━━━━━━━━━━━━━━━━━━━━━━━\u001b[0m \u001b[32m181.3/181.3 kB\u001b[0m \u001b[31m25.9 MB/s\u001b[0m eta \u001b[36m0:00:00\u001b[0m\n",
      "\u001b[?25hCollecting cachetools<6.0,>=2.0.0\n",
      "  Downloading cachetools-5.3.2-py3-none-any.whl (9.3 kB)\n",
      "Collecting rsa<5,>=3.1.4\n",
      "  Downloading rsa-4.9-py3-none-any.whl (34 kB)\n",
      "Collecting requests-oauthlib>=0.7.0\n",
      "  Downloading requests_oauthlib-1.3.1-py2.py3-none-any.whl (23 kB)\n",
      "Requirement already satisfied: charset-normalizer<3,>=2 in /opt/conda/lib/python3.10/site-packages (from requests<3,>=2.21.0->tensorboard<2.16,>=2.15->tensorflow) (2.1.1)\n",
      "Requirement already satisfied: idna<4,>=2.5 in /opt/conda/lib/python3.10/site-packages (from requests<3,>=2.21.0->tensorboard<2.16,>=2.15->tensorflow) (3.4)\n",
      "Requirement already satisfied: certifi>=2017.4.17 in /opt/conda/lib/python3.10/site-packages (from requests<3,>=2.21.0->tensorboard<2.16,>=2.15->tensorflow) (2022.12.7)\n",
      "Requirement already satisfied: urllib3<1.27,>=1.21.1 in /opt/conda/lib/python3.10/site-packages (from requests<3,>=2.21.0->tensorboard<2.16,>=2.15->tensorflow) (1.26.13)\n",
      "Requirement already satisfied: MarkupSafe>=2.1.1 in /opt/conda/lib/python3.10/site-packages (from werkzeug>=1.0.1->tensorboard<2.16,>=2.15->tensorflow) (2.1.1)\n",
      "Collecting pyasn1<0.6.0,>=0.4.6\n",
      "  Downloading pyasn1-0.5.1-py2.py3-none-any.whl (84 kB)\n",
      "\u001b[2K     \u001b[90m━━━━━━━━━━━━━━━━━━━━━━━━━━━━━━━━━━━━━━━━\u001b[0m \u001b[32m84.9/84.9 kB\u001b[0m \u001b[31m14.9 MB/s\u001b[0m eta \u001b[36m0:00:00\u001b[0m\n",
      "\u001b[?25hRequirement already satisfied: oauthlib>=3.0.0 in /opt/conda/lib/python3.10/site-packages (from requests-oauthlib>=0.7.0->google-auth-oauthlib<2,>=0.5->tensorboard<2.16,>=2.15->tensorflow) (3.2.2)\n",
      "Installing collected packages: libclang, flatbuffers, wrapt, werkzeug, termcolor, tensorflow-io-gcs-filesystem, tensorflow-estimator, tensorboard-data-server, pyasn1, opt-einsum, ml-dtypes, markdown, keras, grpcio, google-pasta, gast, cachetools, astunparse, absl-py, rsa, requests-oauthlib, pyasn1-modules, google-auth, google-auth-oauthlib, tensorboard, tensorflow\n",
      "Successfully installed absl-py-2.0.0 astunparse-1.6.3 cachetools-5.3.2 flatbuffers-23.5.26 gast-0.5.4 google-auth-2.26.2 google-auth-oauthlib-1.2.0 google-pasta-0.2.0 grpcio-1.60.0 keras-2.15.0 libclang-16.0.6 markdown-3.5.2 ml-dtypes-0.2.0 opt-einsum-3.3.0 pyasn1-0.5.1 pyasn1-modules-0.3.0 requests-oauthlib-1.3.1 rsa-4.9 tensorboard-2.15.1 tensorboard-data-server-0.7.2 tensorflow-2.15.0.post1 tensorflow-estimator-2.15.0 tensorflow-io-gcs-filesystem-0.35.0 termcolor-2.4.0 werkzeug-3.0.1 wrapt-1.14.1\n",
      "Note: you may need to restart the kernel to use updated packages.\n"
     ]
    }
   ],
   "source": [
    "pip install tensorflow"
   ]
  },
  {
   "cell_type": "markdown",
   "id": "682942bd-fadd-48bb-a02c-d7d83a44ac26",
   "metadata": {},
   "source": [
    "## Q1. Install and load the latest versions of TensorFlow and Keras. Print their versions."
   ]
  },
  {
   "cell_type": "code",
   "execution_count": 1,
   "id": "fbcf3ae3-f294-499d-ac95-fbd02bc88eee",
   "metadata": {},
   "outputs": [
    {
     "name": "stderr",
     "output_type": "stream",
     "text": [
      "2024-01-11 08:46:00.428075: I external/local_tsl/tsl/cuda/cudart_stub.cc:31] Could not find cuda drivers on your machine, GPU will not be used.\n",
      "2024-01-11 08:46:00.494611: E external/local_xla/xla/stream_executor/cuda/cuda_dnn.cc:9261] Unable to register cuDNN factory: Attempting to register factory for plugin cuDNN when one has already been registered\n",
      "2024-01-11 08:46:00.494661: E external/local_xla/xla/stream_executor/cuda/cuda_fft.cc:607] Unable to register cuFFT factory: Attempting to register factory for plugin cuFFT when one has already been registered\n",
      "2024-01-11 08:46:00.496428: E external/local_xla/xla/stream_executor/cuda/cuda_blas.cc:1515] Unable to register cuBLAS factory: Attempting to register factory for plugin cuBLAS when one has already been registered\n",
      "2024-01-11 08:46:00.505783: I external/local_tsl/tsl/cuda/cudart_stub.cc:31] Could not find cuda drivers on your machine, GPU will not be used.\n",
      "2024-01-11 08:46:00.506348: I tensorflow/core/platform/cpu_feature_guard.cc:182] This TensorFlow binary is optimized to use available CPU instructions in performance-critical operations.\n",
      "To enable the following instructions: AVX2 FMA, in other operations, rebuild TensorFlow with the appropriate compiler flags.\n",
      "2024-01-11 08:46:01.801506: W tensorflow/compiler/tf2tensorrt/utils/py_utils.cc:38] TF-TRT Warning: Could not find TensorRT\n"
     ]
    },
    {
     "name": "stdout",
     "output_type": "stream",
     "text": [
      "tensorflow version 2.15.0\n",
      "keras version 2.15.0\n"
     ]
    }
   ],
   "source": [
    "import numpy as np\n",
    "import matplotlib.pyplot as plt\n",
    "import tensorflow as tf\n",
    "import keras\n",
    "from keras import Sequential\n",
    "import os\n",
    "import pandas as pd\n",
    "import seaborn as sns\n",
    "\n",
    "import warnings\n",
    "warnings.filterwarnings('ignore')\n",
    "\n",
    "\n",
    "print(f\"tensorflow version {tf.__version__}\")\n",
    "print(f\"keras version {keras.__version__}\")"
   ]
  },
  {
   "cell_type": "markdown",
   "id": "98036b83-5fed-431b-8a29-c06f8a5b0d45",
   "metadata": {},
   "source": [
    "## Q2. Load the Wine Quality dataset and explore its dimensions."
   ]
  },
  {
   "cell_type": "code",
   "execution_count": 2,
   "id": "9c72f244-9ca0-4faf-ba3e-38a1a02e7ae8",
   "metadata": {},
   "outputs": [
    {
     "data": {
      "text/html": [
       "<div>\n",
       "<style scoped>\n",
       "    .dataframe tbody tr th:only-of-type {\n",
       "        vertical-align: middle;\n",
       "    }\n",
       "\n",
       "    .dataframe tbody tr th {\n",
       "        vertical-align: top;\n",
       "    }\n",
       "\n",
       "    .dataframe thead th {\n",
       "        text-align: right;\n",
       "    }\n",
       "</style>\n",
       "<table border=\"1\" class=\"dataframe\">\n",
       "  <thead>\n",
       "    <tr style=\"text-align: right;\">\n",
       "      <th></th>\n",
       "      <th>fixed acidity</th>\n",
       "      <th>volatile acidity</th>\n",
       "      <th>citric acid</th>\n",
       "      <th>residual sugar</th>\n",
       "      <th>chlorides</th>\n",
       "      <th>free sulfur dioxide</th>\n",
       "      <th>total sulfur dioxide</th>\n",
       "      <th>density</th>\n",
       "      <th>pH</th>\n",
       "      <th>sulphates</th>\n",
       "      <th>alcohol</th>\n",
       "      <th>quality</th>\n",
       "    </tr>\n",
       "  </thead>\n",
       "  <tbody>\n",
       "    <tr>\n",
       "      <th>0</th>\n",
       "      <td>7.4</td>\n",
       "      <td>0.70</td>\n",
       "      <td>0.00</td>\n",
       "      <td>1.9</td>\n",
       "      <td>0.076</td>\n",
       "      <td>11.0</td>\n",
       "      <td>34.0</td>\n",
       "      <td>0.9978</td>\n",
       "      <td>3.51</td>\n",
       "      <td>0.56</td>\n",
       "      <td>9.4</td>\n",
       "      <td>bad</td>\n",
       "    </tr>\n",
       "    <tr>\n",
       "      <th>1</th>\n",
       "      <td>7.8</td>\n",
       "      <td>0.88</td>\n",
       "      <td>0.00</td>\n",
       "      <td>2.6</td>\n",
       "      <td>0.098</td>\n",
       "      <td>25.0</td>\n",
       "      <td>67.0</td>\n",
       "      <td>0.9968</td>\n",
       "      <td>3.20</td>\n",
       "      <td>0.68</td>\n",
       "      <td>9.8</td>\n",
       "      <td>bad</td>\n",
       "    </tr>\n",
       "    <tr>\n",
       "      <th>2</th>\n",
       "      <td>7.8</td>\n",
       "      <td>0.76</td>\n",
       "      <td>0.04</td>\n",
       "      <td>2.3</td>\n",
       "      <td>0.092</td>\n",
       "      <td>15.0</td>\n",
       "      <td>54.0</td>\n",
       "      <td>0.9970</td>\n",
       "      <td>3.26</td>\n",
       "      <td>0.65</td>\n",
       "      <td>9.8</td>\n",
       "      <td>bad</td>\n",
       "    </tr>\n",
       "    <tr>\n",
       "      <th>3</th>\n",
       "      <td>11.2</td>\n",
       "      <td>0.28</td>\n",
       "      <td>0.56</td>\n",
       "      <td>1.9</td>\n",
       "      <td>0.075</td>\n",
       "      <td>17.0</td>\n",
       "      <td>60.0</td>\n",
       "      <td>0.9980</td>\n",
       "      <td>3.16</td>\n",
       "      <td>0.58</td>\n",
       "      <td>9.8</td>\n",
       "      <td>good</td>\n",
       "    </tr>\n",
       "    <tr>\n",
       "      <th>4</th>\n",
       "      <td>7.4</td>\n",
       "      <td>0.70</td>\n",
       "      <td>0.00</td>\n",
       "      <td>1.9</td>\n",
       "      <td>0.076</td>\n",
       "      <td>11.0</td>\n",
       "      <td>34.0</td>\n",
       "      <td>0.9978</td>\n",
       "      <td>3.51</td>\n",
       "      <td>0.56</td>\n",
       "      <td>9.4</td>\n",
       "      <td>bad</td>\n",
       "    </tr>\n",
       "  </tbody>\n",
       "</table>\n",
       "</div>"
      ],
      "text/plain": [
       "   fixed acidity  volatile acidity  citric acid  residual sugar  chlorides  \\\n",
       "0            7.4              0.70         0.00             1.9      0.076   \n",
       "1            7.8              0.88         0.00             2.6      0.098   \n",
       "2            7.8              0.76         0.04             2.3      0.092   \n",
       "3           11.2              0.28         0.56             1.9      0.075   \n",
       "4            7.4              0.70         0.00             1.9      0.076   \n",
       "\n",
       "   free sulfur dioxide  total sulfur dioxide  density    pH  sulphates  \\\n",
       "0                 11.0                  34.0   0.9978  3.51       0.56   \n",
       "1                 25.0                  67.0   0.9968  3.20       0.68   \n",
       "2                 15.0                  54.0   0.9970  3.26       0.65   \n",
       "3                 17.0                  60.0   0.9980  3.16       0.58   \n",
       "4                 11.0                  34.0   0.9978  3.51       0.56   \n",
       "\n",
       "   alcohol quality  \n",
       "0      9.4     bad  \n",
       "1      9.8     bad  \n",
       "2      9.8     bad  \n",
       "3      9.8    good  \n",
       "4      9.4     bad  "
      ]
     },
     "execution_count": 2,
     "metadata": {},
     "output_type": "execute_result"
    }
   ],
   "source": [
    "df = pd.read_csv(\"https://raw.githubusercontent.com/79Aniket/79Aniket/main/wine.csv\")\n",
    "df.head()"
   ]
  },
  {
   "cell_type": "markdown",
   "id": "a9a659d7-37fe-4efb-9d10-df790027d907",
   "metadata": {},
   "source": [
    "## Q3. Check for null values, identify categorical variables, and encode them."
   ]
  },
  {
   "cell_type": "code",
   "execution_count": 3,
   "id": "3e0d9020-eadb-4c58-9bc2-19d45147f98e",
   "metadata": {},
   "outputs": [
    {
     "data": {
      "text/plain": [
       "fixed acidity           0\n",
       "volatile acidity        0\n",
       "citric acid             0\n",
       "residual sugar          0\n",
       "chlorides               0\n",
       "free sulfur dioxide     0\n",
       "total sulfur dioxide    0\n",
       "density                 0\n",
       "pH                      0\n",
       "sulphates               0\n",
       "alcohol                 0\n",
       "quality                 0\n",
       "dtype: int64"
      ]
     },
     "execution_count": 3,
     "metadata": {},
     "output_type": "execute_result"
    }
   ],
   "source": [
    "## Check for null valu\n",
    "df.isnull().sum()"
   ]
  },
  {
   "cell_type": "code",
   "execution_count": 4,
   "id": "4f414d78-50a3-45d7-8ae7-32985e72703d",
   "metadata": {},
   "outputs": [
    {
     "name": "stdout",
     "output_type": "stream",
     "text": [
      "<class 'pandas.core.frame.DataFrame'>\n",
      "RangeIndex: 1599 entries, 0 to 1598\n",
      "Data columns (total 12 columns):\n",
      " #   Column                Non-Null Count  Dtype  \n",
      "---  ------                --------------  -----  \n",
      " 0   fixed acidity         1599 non-null   float64\n",
      " 1   volatile acidity      1599 non-null   float64\n",
      " 2   citric acid           1599 non-null   float64\n",
      " 3   residual sugar        1599 non-null   float64\n",
      " 4   chlorides             1599 non-null   float64\n",
      " 5   free sulfur dioxide   1599 non-null   float64\n",
      " 6   total sulfur dioxide  1599 non-null   float64\n",
      " 7   density               1599 non-null   float64\n",
      " 8   pH                    1599 non-null   float64\n",
      " 9   sulphates             1599 non-null   float64\n",
      " 10  alcohol               1599 non-null   float64\n",
      " 11  quality               1599 non-null   object \n",
      "dtypes: float64(11), object(1)\n",
      "memory usage: 150.0+ KB\n"
     ]
    }
   ],
   "source": [
    "df.info()"
   ]
  },
  {
   "cell_type": "code",
   "execution_count": 5,
   "id": "5631a388-b499-4ba6-ab57-f2075f0ff7db",
   "metadata": {},
   "outputs": [
    {
     "data": {
      "text/plain": [
       "240"
      ]
     },
     "execution_count": 5,
     "metadata": {},
     "output_type": "execute_result"
    }
   ],
   "source": [
    "df.duplicated().sum()"
   ]
  },
  {
   "cell_type": "code",
   "execution_count": 6,
   "id": "e307b3ae-eb90-40f2-a1c1-215c843cd780",
   "metadata": {},
   "outputs": [
    {
     "data": {
      "text/plain": [
       "(1599, 12)"
      ]
     },
     "execution_count": 6,
     "metadata": {},
     "output_type": "execute_result"
    }
   ],
   "source": [
    "df.shape"
   ]
  },
  {
   "cell_type": "code",
   "execution_count": 7,
   "id": "6529f856-1f5a-442d-8ede-b0d46bfdf278",
   "metadata": {},
   "outputs": [],
   "source": [
    "df = df.drop_duplicates(keep='first')"
   ]
  },
  {
   "cell_type": "code",
   "execution_count": 8,
   "id": "15322396-9b1f-4fdf-863f-437b1cedd3c6",
   "metadata": {},
   "outputs": [
    {
     "data": {
      "text/plain": [
       "(1359, 12)"
      ]
     },
     "execution_count": 8,
     "metadata": {},
     "output_type": "execute_result"
    }
   ],
   "source": [
    "df.duplicated(keep=False)\n",
    "df.shape"
   ]
  },
  {
   "cell_type": "code",
   "execution_count": 9,
   "id": "f94863fc-d81b-4a11-bcdc-da23b1b02cdd",
   "metadata": {},
   "outputs": [
    {
     "data": {
      "text/plain": [
       "array(['bad', 'good'], dtype=object)"
      ]
     },
     "execution_count": 9,
     "metadata": {},
     "output_type": "execute_result"
    }
   ],
   "source": [
    "# Quality is the only column which needs to be encoded\n",
    "df['quality'].unique()"
   ]
  },
  {
   "cell_type": "code",
   "execution_count": 10,
   "id": "4293615d-4fcf-4ebf-97f1-5f69a3aec0e9",
   "metadata": {},
   "outputs": [],
   "source": [
    "mapping_values = {\"bad\" : 0, \"good\" : 1}"
   ]
  },
  {
   "cell_type": "code",
   "execution_count": 11,
   "id": "0e508eaf-39d8-4ac2-92f0-aca95176d095",
   "metadata": {},
   "outputs": [],
   "source": [
    "df['quality'] = df['quality'].map(mapping_values)"
   ]
  },
  {
   "cell_type": "code",
   "execution_count": 12,
   "id": "4ba9c09a-359b-462a-a0a8-0fbbdfbebd2f",
   "metadata": {},
   "outputs": [
    {
     "data": {
      "text/html": [
       "<div>\n",
       "<style scoped>\n",
       "    .dataframe tbody tr th:only-of-type {\n",
       "        vertical-align: middle;\n",
       "    }\n",
       "\n",
       "    .dataframe tbody tr th {\n",
       "        vertical-align: top;\n",
       "    }\n",
       "\n",
       "    .dataframe thead th {\n",
       "        text-align: right;\n",
       "    }\n",
       "</style>\n",
       "<table border=\"1\" class=\"dataframe\">\n",
       "  <thead>\n",
       "    <tr style=\"text-align: right;\">\n",
       "      <th></th>\n",
       "      <th>fixed acidity</th>\n",
       "      <th>volatile acidity</th>\n",
       "      <th>citric acid</th>\n",
       "      <th>residual sugar</th>\n",
       "      <th>chlorides</th>\n",
       "      <th>free sulfur dioxide</th>\n",
       "      <th>total sulfur dioxide</th>\n",
       "      <th>density</th>\n",
       "      <th>pH</th>\n",
       "      <th>sulphates</th>\n",
       "      <th>alcohol</th>\n",
       "      <th>quality</th>\n",
       "    </tr>\n",
       "  </thead>\n",
       "  <tbody>\n",
       "    <tr>\n",
       "      <th>0</th>\n",
       "      <td>7.4</td>\n",
       "      <td>0.70</td>\n",
       "      <td>0.00</td>\n",
       "      <td>1.9</td>\n",
       "      <td>0.076</td>\n",
       "      <td>11.0</td>\n",
       "      <td>34.0</td>\n",
       "      <td>0.9978</td>\n",
       "      <td>3.51</td>\n",
       "      <td>0.56</td>\n",
       "      <td>9.4</td>\n",
       "      <td>0</td>\n",
       "    </tr>\n",
       "    <tr>\n",
       "      <th>1</th>\n",
       "      <td>7.8</td>\n",
       "      <td>0.88</td>\n",
       "      <td>0.00</td>\n",
       "      <td>2.6</td>\n",
       "      <td>0.098</td>\n",
       "      <td>25.0</td>\n",
       "      <td>67.0</td>\n",
       "      <td>0.9968</td>\n",
       "      <td>3.20</td>\n",
       "      <td>0.68</td>\n",
       "      <td>9.8</td>\n",
       "      <td>0</td>\n",
       "    </tr>\n",
       "    <tr>\n",
       "      <th>2</th>\n",
       "      <td>7.8</td>\n",
       "      <td>0.76</td>\n",
       "      <td>0.04</td>\n",
       "      <td>2.3</td>\n",
       "      <td>0.092</td>\n",
       "      <td>15.0</td>\n",
       "      <td>54.0</td>\n",
       "      <td>0.9970</td>\n",
       "      <td>3.26</td>\n",
       "      <td>0.65</td>\n",
       "      <td>9.8</td>\n",
       "      <td>0</td>\n",
       "    </tr>\n",
       "    <tr>\n",
       "      <th>3</th>\n",
       "      <td>11.2</td>\n",
       "      <td>0.28</td>\n",
       "      <td>0.56</td>\n",
       "      <td>1.9</td>\n",
       "      <td>0.075</td>\n",
       "      <td>17.0</td>\n",
       "      <td>60.0</td>\n",
       "      <td>0.9980</td>\n",
       "      <td>3.16</td>\n",
       "      <td>0.58</td>\n",
       "      <td>9.8</td>\n",
       "      <td>1</td>\n",
       "    </tr>\n",
       "    <tr>\n",
       "      <th>5</th>\n",
       "      <td>7.4</td>\n",
       "      <td>0.66</td>\n",
       "      <td>0.00</td>\n",
       "      <td>1.8</td>\n",
       "      <td>0.075</td>\n",
       "      <td>13.0</td>\n",
       "      <td>40.0</td>\n",
       "      <td>0.9978</td>\n",
       "      <td>3.51</td>\n",
       "      <td>0.56</td>\n",
       "      <td>9.4</td>\n",
       "      <td>0</td>\n",
       "    </tr>\n",
       "    <tr>\n",
       "      <th>6</th>\n",
       "      <td>7.9</td>\n",
       "      <td>0.60</td>\n",
       "      <td>0.06</td>\n",
       "      <td>1.6</td>\n",
       "      <td>0.069</td>\n",
       "      <td>15.0</td>\n",
       "      <td>59.0</td>\n",
       "      <td>0.9964</td>\n",
       "      <td>3.30</td>\n",
       "      <td>0.46</td>\n",
       "      <td>9.4</td>\n",
       "      <td>0</td>\n",
       "    </tr>\n",
       "    <tr>\n",
       "      <th>7</th>\n",
       "      <td>7.3</td>\n",
       "      <td>0.65</td>\n",
       "      <td>0.00</td>\n",
       "      <td>1.2</td>\n",
       "      <td>0.065</td>\n",
       "      <td>15.0</td>\n",
       "      <td>21.0</td>\n",
       "      <td>0.9946</td>\n",
       "      <td>3.39</td>\n",
       "      <td>0.47</td>\n",
       "      <td>10.0</td>\n",
       "      <td>1</td>\n",
       "    </tr>\n",
       "    <tr>\n",
       "      <th>8</th>\n",
       "      <td>7.8</td>\n",
       "      <td>0.58</td>\n",
       "      <td>0.02</td>\n",
       "      <td>2.0</td>\n",
       "      <td>0.073</td>\n",
       "      <td>9.0</td>\n",
       "      <td>18.0</td>\n",
       "      <td>0.9968</td>\n",
       "      <td>3.36</td>\n",
       "      <td>0.57</td>\n",
       "      <td>9.5</td>\n",
       "      <td>1</td>\n",
       "    </tr>\n",
       "    <tr>\n",
       "      <th>9</th>\n",
       "      <td>7.5</td>\n",
       "      <td>0.50</td>\n",
       "      <td>0.36</td>\n",
       "      <td>6.1</td>\n",
       "      <td>0.071</td>\n",
       "      <td>17.0</td>\n",
       "      <td>102.0</td>\n",
       "      <td>0.9978</td>\n",
       "      <td>3.35</td>\n",
       "      <td>0.80</td>\n",
       "      <td>10.5</td>\n",
       "      <td>0</td>\n",
       "    </tr>\n",
       "    <tr>\n",
       "      <th>10</th>\n",
       "      <td>6.7</td>\n",
       "      <td>0.58</td>\n",
       "      <td>0.08</td>\n",
       "      <td>1.8</td>\n",
       "      <td>0.097</td>\n",
       "      <td>15.0</td>\n",
       "      <td>65.0</td>\n",
       "      <td>0.9959</td>\n",
       "      <td>3.28</td>\n",
       "      <td>0.54</td>\n",
       "      <td>9.2</td>\n",
       "      <td>0</td>\n",
       "    </tr>\n",
       "  </tbody>\n",
       "</table>\n",
       "</div>"
      ],
      "text/plain": [
       "    fixed acidity  volatile acidity  citric acid  residual sugar  chlorides  \\\n",
       "0             7.4              0.70         0.00             1.9      0.076   \n",
       "1             7.8              0.88         0.00             2.6      0.098   \n",
       "2             7.8              0.76         0.04             2.3      0.092   \n",
       "3            11.2              0.28         0.56             1.9      0.075   \n",
       "5             7.4              0.66         0.00             1.8      0.075   \n",
       "6             7.9              0.60         0.06             1.6      0.069   \n",
       "7             7.3              0.65         0.00             1.2      0.065   \n",
       "8             7.8              0.58         0.02             2.0      0.073   \n",
       "9             7.5              0.50         0.36             6.1      0.071   \n",
       "10            6.7              0.58         0.08             1.8      0.097   \n",
       "\n",
       "    free sulfur dioxide  total sulfur dioxide  density    pH  sulphates  \\\n",
       "0                  11.0                  34.0   0.9978  3.51       0.56   \n",
       "1                  25.0                  67.0   0.9968  3.20       0.68   \n",
       "2                  15.0                  54.0   0.9970  3.26       0.65   \n",
       "3                  17.0                  60.0   0.9980  3.16       0.58   \n",
       "5                  13.0                  40.0   0.9978  3.51       0.56   \n",
       "6                  15.0                  59.0   0.9964  3.30       0.46   \n",
       "7                  15.0                  21.0   0.9946  3.39       0.47   \n",
       "8                   9.0                  18.0   0.9968  3.36       0.57   \n",
       "9                  17.0                 102.0   0.9978  3.35       0.80   \n",
       "10                 15.0                  65.0   0.9959  3.28       0.54   \n",
       "\n",
       "    alcohol  quality  \n",
       "0       9.4        0  \n",
       "1       9.8        0  \n",
       "2       9.8        0  \n",
       "3       9.8        1  \n",
       "5       9.4        0  \n",
       "6       9.4        0  \n",
       "7      10.0        1  \n",
       "8       9.5        1  \n",
       "9      10.5        0  \n",
       "10      9.2        0  "
      ]
     },
     "execution_count": 12,
     "metadata": {},
     "output_type": "execute_result"
    }
   ],
   "source": [
    "df.head(10)"
   ]
  },
  {
   "cell_type": "code",
   "execution_count": 13,
   "id": "33d02068-231e-43bb-80be-6caaf3847ecf",
   "metadata": {},
   "outputs": [
    {
     "data": {
      "text/plain": [
       "1    719\n",
       "0    640\n",
       "Name: quality, dtype: int64"
      ]
     },
     "execution_count": 13,
     "metadata": {},
     "output_type": "execute_result"
    }
   ],
   "source": [
    "df[\"quality\"].value_counts()"
   ]
  },
  {
   "cell_type": "code",
   "execution_count": null,
   "id": "e0d6acc2-b5c8-4791-9ae7-faa08a28bb31",
   "metadata": {},
   "outputs": [],
   "source": []
  },
  {
   "cell_type": "markdown",
   "id": "6cd30a0e-3ad3-4626-9a7d-dcbe6198d0e3",
   "metadata": {},
   "source": [
    "## Q.4.Separate the features and target variables from the dataframe."
   ]
  },
  {
   "cell_type": "code",
   "execution_count": 14,
   "id": "ba9bf10e-7fe1-4088-9c02-22d52c4960c9",
   "metadata": {},
   "outputs": [],
   "source": [
    "X = df.drop(labels=[\"quality\"],axis=1)\n",
    "y = df[\"quality\"]"
   ]
  },
  {
   "cell_type": "code",
   "execution_count": 15,
   "id": "294665c5-b283-484d-9af6-87bccc172d9b",
   "metadata": {},
   "outputs": [
    {
     "data": {
      "text/plain": [
       "((1359, 11), (1359,))"
      ]
     },
     "execution_count": 15,
     "metadata": {},
     "output_type": "execute_result"
    }
   ],
   "source": [
    "X.shape , y.shape"
   ]
  },
  {
   "cell_type": "code",
   "execution_count": null,
   "id": "84715380-5521-46bf-9a97-26d534368a9f",
   "metadata": {},
   "outputs": [],
   "source": []
  },
  {
   "cell_type": "markdown",
   "id": "edb3be12-dcfc-4f2b-83ba-41099cfd368c",
   "metadata": {},
   "source": [
    "##  Q5. Perform a train-test split and divide the data into training, validation, and test datasets."
   ]
  },
  {
   "cell_type": "code",
   "execution_count": 16,
   "id": "12b1339d-9d8a-43f0-b9a8-0931d278c5bc",
   "metadata": {},
   "outputs": [],
   "source": [
    "from sklearn.model_selection import train_test_split\n",
    "\n",
    "#Splitting data for training and testing\n",
    "X_train, X_test, y_train, y_test = train_test_split( X, y, test_size=0.20, random_state=42)\n",
    "#Further splitting the training data into training and validation\n",
    "X_train, X_val, y_train, y_val = train_test_split(X_train, y_train, test_size=0.25, random_state=42)"
   ]
  },
  {
   "cell_type": "code",
   "execution_count": 17,
   "id": "963ba7b4-20fe-484f-8aa5-238daca46082",
   "metadata": {},
   "outputs": [
    {
     "data": {
      "text/plain": [
       "((815, 11), (815,))"
      ]
     },
     "execution_count": 17,
     "metadata": {},
     "output_type": "execute_result"
    }
   ],
   "source": [
    "X_train.shape , y_train.shape"
   ]
  },
  {
   "cell_type": "code",
   "execution_count": 18,
   "id": "816891f0-58c9-49d2-b0a2-831317cd04dc",
   "metadata": {},
   "outputs": [
    {
     "data": {
      "text/plain": [
       "((272, 11), (272,))"
      ]
     },
     "execution_count": 18,
     "metadata": {},
     "output_type": "execute_result"
    }
   ],
   "source": [
    "X_test.shape , y_test.shape"
   ]
  },
  {
   "cell_type": "code",
   "execution_count": 19,
   "id": "d551d485-165f-4b5c-b91c-3d15c2808ac3",
   "metadata": {},
   "outputs": [
    {
     "data": {
      "text/plain": [
       "((272, 11), (272,))"
      ]
     },
     "execution_count": 19,
     "metadata": {},
     "output_type": "execute_result"
    }
   ],
   "source": [
    "X_val.shape , y_val.shape"
   ]
  },
  {
   "cell_type": "markdown",
   "id": "76e64e06-3531-4b9a-93c1-37c3f5e2888d",
   "metadata": {},
   "source": [
    "## Q6. Perform scaling on the dataset."
   ]
  },
  {
   "cell_type": "code",
   "execution_count": 20,
   "id": "58c345a4-020b-4df4-ac18-03f5462c530a",
   "metadata": {},
   "outputs": [],
   "source": [
    "from sklearn.preprocessing import StandardScaler\n",
    "scaler = StandardScaler()\n",
    "X_train = scaler.fit_transform(X_train)\n",
    "X_test = scaler.transform(X_test)\n",
    "X_val = scaler.transform(X_val)"
   ]
  },
  {
   "cell_type": "markdown",
   "id": "e400a1cc-c946-4a24-a3c3-b1904e647547",
   "metadata": {},
   "source": [
    "# Q7. Create at least 2 hidden layers and an output layer for the binary categorical variables."
   ]
  },
  {
   "cell_type": "code",
   "execution_count": 21,
   "id": "bce529cd-c0dd-471b-b16f-4ba6a33c2a83",
   "metadata": {},
   "outputs": [],
   "source": [
    "from tensorflow.keras.layers import Input, Dense\n",
    "\n",
    "#Creating layers of ANN\n",
    "LAYERS = [keras.layers.Input(shape = X_train.shape[1:],name=\"InputLayer\"),\n",
    "          keras.layers.Dense(200,activation='relu',name=\"HiddenLayer1\"),\n",
    "          keras.layers.Dense(100,activation='relu',name=\"HiddenLayer2\"),\n",
    "          keras.layers.Dense(1,activation='sigmoid',name=\"OutputLayer\")\n",
    "          ]"
   ]
  },
  {
   "cell_type": "markdown",
   "id": "3825642f-7bb6-4c9a-bcfb-7fc2fab7baa0",
   "metadata": {},
   "source": [
    "# Q8. Create a Sequential model and add all the layers to it."
   ]
  },
  {
   "cell_type": "code",
   "execution_count": 22,
   "id": "510c4eda-f16e-4d79-9d04-b67c3ab26ed2",
   "metadata": {},
   "outputs": [],
   "source": [
    "model_clf = keras.models.Sequential(LAYERS)"
   ]
  },
  {
   "cell_type": "code",
   "execution_count": 23,
   "id": "d9aa0142-7379-4277-9d74-2ce577cd7b2a",
   "metadata": {},
   "outputs": [
    {
     "data": {
      "text/plain": [
       "[<keras.src.layers.core.dense.Dense at 0x7faa6e7054b0>,\n",
       " <keras.src.layers.core.dense.Dense at 0x7faa6e705540>,\n",
       " <keras.src.layers.core.dense.Dense at 0x7faa6e705930>]"
      ]
     },
     "execution_count": 23,
     "metadata": {},
     "output_type": "execute_result"
    }
   ],
   "source": [
    "model_clf.layers"
   ]
  },
  {
   "cell_type": "code",
   "execution_count": 24,
   "id": "a2b16a2b-d58f-43ff-8ccf-7d8fd83b75eb",
   "metadata": {},
   "outputs": [],
   "source": [
    "LOSS_FUNCTION = \"binary_crossentropy\"\n",
    "OPTIMIZER = \"Adam\"\n",
    "METRICS = [\"accuracy\"]\n",
    "\n",
    "model_clf.compile(loss=LOSS_FUNCTION,\n",
    "              optimizer=OPTIMIZER,\n",
    "              metrics=METRICS)"
   ]
  },
  {
   "cell_type": "markdown",
   "id": "0ab52cd2-de14-4b63-8a62-f7a72dd2c46c",
   "metadata": {},
   "source": [
    "## Q9. Implement a TensorBoard callback to visualize and monitor the model's training process."
   ]
  },
  {
   "cell_type": "code",
   "execution_count": 26,
   "id": "dea2c239-55e7-4195-9012-fb51b7c14daa",
   "metadata": {},
   "outputs": [
    {
     "name": "stdout",
     "output_type": "stream",
     "text": [
      "Epoch 1/50\n",
      "26/26 [==============================] - 0s 8ms/step - loss: 0.4387 - accuracy: 0.7926 - val_loss: 0.5289 - val_accuracy: 0.7426\n",
      "Epoch 2/50\n",
      "26/26 [==============================] - 0s 6ms/step - loss: 0.4304 - accuracy: 0.8025 - val_loss: 0.5252 - val_accuracy: 0.7426\n",
      "Epoch 3/50\n",
      "26/26 [==============================] - 0s 6ms/step - loss: 0.4217 - accuracy: 0.8074 - val_loss: 0.5287 - val_accuracy: 0.7500\n",
      "Epoch 4/50\n",
      "26/26 [==============================] - 0s 6ms/step - loss: 0.4199 - accuracy: 0.7975 - val_loss: 0.5323 - val_accuracy: 0.7390\n",
      "Epoch 5/50\n",
      "26/26 [==============================] - 0s 6ms/step - loss: 0.4152 - accuracy: 0.8049 - val_loss: 0.5280 - val_accuracy: 0.7537\n",
      "Epoch 6/50\n",
      "26/26 [==============================] - 0s 6ms/step - loss: 0.4043 - accuracy: 0.8147 - val_loss: 0.5355 - val_accuracy: 0.7500\n",
      "Epoch 7/50\n",
      "26/26 [==============================] - 0s 6ms/step - loss: 0.4019 - accuracy: 0.8196 - val_loss: 0.5296 - val_accuracy: 0.7390\n",
      "Epoch 8/50\n",
      "26/26 [==============================] - 0s 6ms/step - loss: 0.3918 - accuracy: 0.8147 - val_loss: 0.5372 - val_accuracy: 0.7610\n",
      "Epoch 9/50\n",
      "26/26 [==============================] - 0s 6ms/step - loss: 0.3849 - accuracy: 0.8160 - val_loss: 0.5339 - val_accuracy: 0.7353\n",
      "Epoch 10/50\n",
      "26/26 [==============================] - 0s 6ms/step - loss: 0.3795 - accuracy: 0.8294 - val_loss: 0.5462 - val_accuracy: 0.7426\n",
      "Epoch 11/50\n",
      "26/26 [==============================] - 0s 6ms/step - loss: 0.3784 - accuracy: 0.8233 - val_loss: 0.5468 - val_accuracy: 0.7463\n",
      "Epoch 12/50\n",
      "26/26 [==============================] - 0s 6ms/step - loss: 0.3637 - accuracy: 0.8294 - val_loss: 0.5692 - val_accuracy: 0.7390\n",
      "Epoch 13/50\n",
      "26/26 [==============================] - 0s 6ms/step - loss: 0.3676 - accuracy: 0.8294 - val_loss: 0.5648 - val_accuracy: 0.7390\n",
      "Epoch 14/50\n",
      "26/26 [==============================] - 0s 6ms/step - loss: 0.3600 - accuracy: 0.8319 - val_loss: 0.5526 - val_accuracy: 0.7610\n",
      "Epoch 15/50\n",
      "26/26 [==============================] - 0s 6ms/step - loss: 0.3619 - accuracy: 0.8429 - val_loss: 0.5571 - val_accuracy: 0.7500\n",
      "Epoch 16/50\n",
      "26/26 [==============================] - 0s 6ms/step - loss: 0.3543 - accuracy: 0.8405 - val_loss: 0.5676 - val_accuracy: 0.7574\n",
      "Epoch 17/50\n",
      "26/26 [==============================] - 0s 6ms/step - loss: 0.3475 - accuracy: 0.8405 - val_loss: 0.5638 - val_accuracy: 0.7537\n",
      "Epoch 18/50\n",
      "26/26 [==============================] - 0s 6ms/step - loss: 0.3346 - accuracy: 0.8577 - val_loss: 0.5617 - val_accuracy: 0.7390\n",
      "Epoch 19/50\n",
      "26/26 [==============================] - 0s 6ms/step - loss: 0.3316 - accuracy: 0.8503 - val_loss: 0.5677 - val_accuracy: 0.7390\n",
      "Epoch 20/50\n",
      "26/26 [==============================] - 0s 6ms/step - loss: 0.3284 - accuracy: 0.8552 - val_loss: 0.5706 - val_accuracy: 0.7537\n",
      "Epoch 21/50\n",
      "26/26 [==============================] - 0s 6ms/step - loss: 0.3153 - accuracy: 0.8626 - val_loss: 0.5801 - val_accuracy: 0.7537\n",
      "Epoch 22/50\n",
      "26/26 [==============================] - 0s 6ms/step - loss: 0.3193 - accuracy: 0.8613 - val_loss: 0.5857 - val_accuracy: 0.7574\n",
      "Epoch 23/50\n",
      "26/26 [==============================] - 0s 6ms/step - loss: 0.3082 - accuracy: 0.8626 - val_loss: 0.5865 - val_accuracy: 0.7574\n",
      "Epoch 24/50\n",
      "26/26 [==============================] - 0s 6ms/step - loss: 0.3115 - accuracy: 0.8626 - val_loss: 0.6387 - val_accuracy: 0.7022\n",
      "Epoch 25/50\n",
      "26/26 [==============================] - 0s 6ms/step - loss: 0.3018 - accuracy: 0.8663 - val_loss: 0.5984 - val_accuracy: 0.7463\n",
      "Epoch 26/50\n",
      "26/26 [==============================] - 0s 6ms/step - loss: 0.2897 - accuracy: 0.8847 - val_loss: 0.5989 - val_accuracy: 0.7500\n",
      "Epoch 27/50\n",
      "26/26 [==============================] - 0s 6ms/step - loss: 0.2869 - accuracy: 0.8712 - val_loss: 0.6042 - val_accuracy: 0.7426\n",
      "Epoch 28/50\n",
      "26/26 [==============================] - 0s 7ms/step - loss: 0.2843 - accuracy: 0.8736 - val_loss: 0.6112 - val_accuracy: 0.7647\n",
      "Epoch 29/50\n",
      "26/26 [==============================] - 0s 6ms/step - loss: 0.2837 - accuracy: 0.8847 - val_loss: 0.6188 - val_accuracy: 0.7463\n",
      "Epoch 30/50\n",
      "26/26 [==============================] - 0s 6ms/step - loss: 0.2719 - accuracy: 0.8896 - val_loss: 0.6223 - val_accuracy: 0.7537\n",
      "Epoch 31/50\n",
      "26/26 [==============================] - 0s 6ms/step - loss: 0.2656 - accuracy: 0.8883 - val_loss: 0.6117 - val_accuracy: 0.7537\n",
      "Epoch 32/50\n",
      "26/26 [==============================] - 0s 6ms/step - loss: 0.2611 - accuracy: 0.8859 - val_loss: 0.6316 - val_accuracy: 0.7574\n",
      "Epoch 33/50\n",
      "26/26 [==============================] - 0s 6ms/step - loss: 0.2570 - accuracy: 0.8920 - val_loss: 0.6716 - val_accuracy: 0.7316\n",
      "Epoch 34/50\n",
      "26/26 [==============================] - 0s 6ms/step - loss: 0.2574 - accuracy: 0.8933 - val_loss: 0.6443 - val_accuracy: 0.7390\n",
      "Epoch 35/50\n",
      "26/26 [==============================] - 0s 6ms/step - loss: 0.2393 - accuracy: 0.8969 - val_loss: 0.6374 - val_accuracy: 0.7610\n",
      "Epoch 36/50\n",
      "26/26 [==============================] - 0s 6ms/step - loss: 0.2397 - accuracy: 0.9080 - val_loss: 0.6427 - val_accuracy: 0.7426\n",
      "Epoch 37/50\n",
      "26/26 [==============================] - 0s 6ms/step - loss: 0.2306 - accuracy: 0.9080 - val_loss: 0.6614 - val_accuracy: 0.7353\n",
      "Epoch 38/50\n",
      "26/26 [==============================] - 0s 6ms/step - loss: 0.2357 - accuracy: 0.9031 - val_loss: 0.6941 - val_accuracy: 0.7206\n",
      "Epoch 39/50\n",
      "26/26 [==============================] - 0s 6ms/step - loss: 0.2302 - accuracy: 0.9067 - val_loss: 0.6676 - val_accuracy: 0.7500\n",
      "Epoch 40/50\n",
      "26/26 [==============================] - 0s 6ms/step - loss: 0.2212 - accuracy: 0.9153 - val_loss: 0.6769 - val_accuracy: 0.7610\n",
      "Epoch 41/50\n",
      "26/26 [==============================] - 0s 6ms/step - loss: 0.2150 - accuracy: 0.9141 - val_loss: 0.6981 - val_accuracy: 0.7463\n",
      "Epoch 42/50\n",
      "26/26 [==============================] - 0s 8ms/step - loss: 0.2121 - accuracy: 0.9239 - val_loss: 0.6892 - val_accuracy: 0.7279\n",
      "Epoch 43/50\n",
      "26/26 [==============================] - 0s 6ms/step - loss: 0.2049 - accuracy: 0.9190 - val_loss: 0.6941 - val_accuracy: 0.7279\n",
      "Epoch 44/50\n",
      "26/26 [==============================] - 0s 6ms/step - loss: 0.2015 - accuracy: 0.9252 - val_loss: 0.7034 - val_accuracy: 0.7390\n",
      "Epoch 45/50\n",
      "26/26 [==============================] - 0s 6ms/step - loss: 0.1971 - accuracy: 0.9202 - val_loss: 0.7249 - val_accuracy: 0.7279\n",
      "Epoch 46/50\n",
      "26/26 [==============================] - 0s 6ms/step - loss: 0.1887 - accuracy: 0.9411 - val_loss: 0.7164 - val_accuracy: 0.7500\n",
      "Epoch 47/50\n",
      "26/26 [==============================] - 0s 6ms/step - loss: 0.1864 - accuracy: 0.9350 - val_loss: 0.7543 - val_accuracy: 0.7353\n",
      "Epoch 48/50\n",
      "26/26 [==============================] - 0s 6ms/step - loss: 0.1963 - accuracy: 0.9227 - val_loss: 0.7318 - val_accuracy: 0.7353\n",
      "Epoch 49/50\n",
      "26/26 [==============================] - 0s 6ms/step - loss: 0.1836 - accuracy: 0.9264 - val_loss: 0.7549 - val_accuracy: 0.7316\n",
      "Epoch 50/50\n",
      "26/26 [==============================] - 0s 6ms/step - loss: 0.1764 - accuracy: 0.9423 - val_loss: 0.7642 - val_accuracy: 0.7316\n"
     ]
    },
    {
     "data": {
      "text/plain": [
       "<keras.src.callbacks.History at 0x7faa5c3ac7f0>"
      ]
     },
     "execution_count": 26,
     "metadata": {},
     "output_type": "execute_result"
    }
   ],
   "source": [
    "from tensorflow.keras.callbacks import TensorBoard\n",
    "\n",
    "# Create a TensorBoard callback\n",
    "tensorboard_callback = TensorBoard(log_dir='./logs', histogram_freq=1)\n",
    "#tensorboard_callback = keras.callbacks.TensorBoard(log_dir=\"logs\")\n",
    "\n",
    "# Fit the model with the TensorBoard callback\n",
    "model_clf.fit(X_train, y_train, epochs=50, validation_data=(X_val, y_val), callbacks=[tensorboard_callback])"
   ]
  },
  {
   "cell_type": "markdown",
   "id": "a33d3b7f-f400-435e-a27f-7d569604370d",
   "metadata": {},
   "source": [
    "## Q10. Use Early Stopping to prevent overfitting by monitoring a chosen metric and stopping the training if no improvement is observed."
   ]
  },
  {
   "cell_type": "code",
   "execution_count": 27,
   "id": "85efa46f-3333-4e95-acf3-0e14797e2d9e",
   "metadata": {},
   "outputs": [
    {
     "name": "stdout",
     "output_type": "stream",
     "text": [
      "Epoch 1/10\n",
      "26/26 [==============================] - 0s 6ms/step - loss: 0.1846 - accuracy: 0.9374 - val_loss: 0.8005 - val_accuracy: 0.7243\n",
      "Epoch 2/10\n",
      "26/26 [==============================] - 0s 4ms/step - loss: 0.1982 - accuracy: 0.9252 - val_loss: 0.7881 - val_accuracy: 0.7206\n",
      "Epoch 3/10\n",
      "26/26 [==============================] - 0s 4ms/step - loss: 0.1681 - accuracy: 0.9411 - val_loss: 0.8012 - val_accuracy: 0.7426\n",
      "Epoch 4/10\n",
      "26/26 [==============================] - 0s 4ms/step - loss: 0.1633 - accuracy: 0.9448 - val_loss: 0.7663 - val_accuracy: 0.7537\n",
      "Epoch 5/10\n",
      "26/26 [==============================] - 0s 4ms/step - loss: 0.1613 - accuracy: 0.9460 - val_loss: 0.7917 - val_accuracy: 0.7243\n",
      "Epoch 6/10\n",
      "26/26 [==============================] - 0s 4ms/step - loss: 0.1487 - accuracy: 0.9607 - val_loss: 0.8131 - val_accuracy: 0.7353\n",
      "Epoch 7/10\n",
      "26/26 [==============================] - 0s 4ms/step - loss: 0.1647 - accuracy: 0.9374 - val_loss: 0.7983 - val_accuracy: 0.7610\n",
      "Epoch 8/10\n",
      "26/26 [==============================] - 0s 4ms/step - loss: 0.1417 - accuracy: 0.9583 - val_loss: 0.8412 - val_accuracy: 0.7353\n",
      "Epoch 9/10\n",
      "26/26 [==============================] - 0s 4ms/step - loss: 0.1483 - accuracy: 0.9436 - val_loss: 0.8380 - val_accuracy: 0.7279\n"
     ]
    },
    {
     "data": {
      "text/plain": [
       "<keras.src.callbacks.History at 0x7faa5c4451e0>"
      ]
     },
     "execution_count": 27,
     "metadata": {},
     "output_type": "execute_result"
    }
   ],
   "source": [
    "# Create a Early Stopping callback\n",
    "early_stopping_cb = keras.callbacks.EarlyStopping(patience=5, restore_best_weights=True)\n",
    "\n",
    "# Fit the model with the Early Stopping callback\n",
    "model_clf.fit(X_train, y_train, epochs=10, validation_data=(X_val, y_val), callbacks=[early_stopping_cb])"
   ]
  },
  {
   "cell_type": "markdown",
   "id": "c914690e-7a45-47c6-9204-e28dea11d47e",
   "metadata": {},
   "source": [
    "## Q11. Implement a ModelCheckpoint callback to save the best model based on a chosen metric during training."
   ]
  },
  {
   "cell_type": "code",
   "execution_count": 28,
   "id": "92941c10-1a51-4557-b45c-b8051d58d539",
   "metadata": {},
   "outputs": [
    {
     "name": "stdout",
     "output_type": "stream",
     "text": [
      "Epoch 1/10\n",
      "26/26 [==============================] - 0s 7ms/step - loss: 0.1500 - accuracy: 0.9546 - val_loss: 0.7878 - val_accuracy: 0.7574\n",
      "Epoch 2/10\n",
      "26/26 [==============================] - 0s 3ms/step - loss: 0.1549 - accuracy: 0.9485 - val_loss: 0.8175 - val_accuracy: 0.7500\n",
      "Epoch 3/10\n",
      "26/26 [==============================] - 0s 4ms/step - loss: 0.1472 - accuracy: 0.9497 - val_loss: 0.8304 - val_accuracy: 0.7279\n",
      "Epoch 4/10\n",
      "26/26 [==============================] - 0s 3ms/step - loss: 0.1391 - accuracy: 0.9632 - val_loss: 0.8243 - val_accuracy: 0.7463\n",
      "Epoch 5/10\n",
      "26/26 [==============================] - 0s 4ms/step - loss: 0.1354 - accuracy: 0.9607 - val_loss: 0.8507 - val_accuracy: 0.7353\n",
      "Epoch 6/10\n",
      "26/26 [==============================] - 0s 4ms/step - loss: 0.1356 - accuracy: 0.9595 - val_loss: 0.8555 - val_accuracy: 0.7463\n",
      "Epoch 7/10\n",
      "26/26 [==============================] - 0s 3ms/step - loss: 0.1410 - accuracy: 0.9583 - val_loss: 0.8656 - val_accuracy: 0.7426\n",
      "Epoch 8/10\n",
      "26/26 [==============================] - 0s 4ms/step - loss: 0.1269 - accuracy: 0.9644 - val_loss: 0.8678 - val_accuracy: 0.7426\n",
      "Epoch 9/10\n",
      "26/26 [==============================] - 0s 3ms/step - loss: 0.1239 - accuracy: 0.9632 - val_loss: 0.8869 - val_accuracy: 0.7353\n",
      "Epoch 10/10\n",
      "26/26 [==============================] - 0s 3ms/step - loss: 0.1334 - accuracy: 0.9620 - val_loss: 0.9032 - val_accuracy: 0.7463\n"
     ]
    },
    {
     "data": {
      "text/plain": [
       "<keras.src.callbacks.History at 0x7faa5c463610>"
      ]
     },
     "execution_count": 28,
     "metadata": {},
     "output_type": "execute_result"
    }
   ],
   "source": [
    "# Create a ModelCheckpoint callback\n",
    "checkpoint_cb = keras.callbacks.ModelCheckpoint(\"my_keras_model.h5\", save_best_only=True)\n",
    "\n",
    "# Fit the model with the Early Stopping callback\n",
    "model_clf.fit(X_train, y_train, epochs=10, validation_data=(X_val, y_val), callbacks=[checkpoint_cb])"
   ]
  },
  {
   "cell_type": "markdown",
   "id": "0abe9d9d-ae6b-43f2-944a-388cbd5df19f",
   "metadata": {},
   "source": [
    "## Q12. Print the model summary."
   ]
  },
  {
   "cell_type": "code",
   "execution_count": 29,
   "id": "6043a9fe-2c20-4260-9281-46d7aa45ba33",
   "metadata": {},
   "outputs": [
    {
     "name": "stdout",
     "output_type": "stream",
     "text": [
      "Model: \"sequential\"\n",
      "_________________________________________________________________\n",
      " Layer (type)                Output Shape              Param #   \n",
      "=================================================================\n",
      " HiddenLayer1 (Dense)        (None, 200)               2400      \n",
      "                                                                 \n",
      " HiddenLayer2 (Dense)        (None, 100)               20100     \n",
      "                                                                 \n",
      " OutputLayer (Dense)         (None, 1)                 101       \n",
      "                                                                 \n",
      "=================================================================\n",
      "Total params: 22601 (88.29 KB)\n",
      "Trainable params: 22601 (88.29 KB)\n",
      "Non-trainable params: 0 (0.00 Byte)\n",
      "_________________________________________________________________\n"
     ]
    }
   ],
   "source": [
    "model_clf.summary()"
   ]
  },
  {
   "cell_type": "markdown",
   "id": "6977ffa7-1d69-453c-9584-3e2523e094e5",
   "metadata": {},
   "source": [
    "## Q13. Use binary cross-entropy as the loss function, Adam optimizer, and include the metric ['accuracy']."
   ]
  },
  {
   "cell_type": "code",
   "execution_count": 30,
   "id": "aeac5bc7-7040-455b-977c-2af5dd1bece1",
   "metadata": {},
   "outputs": [],
   "source": [
    "LOSS_FUNCTION = \"binary_crossentropy\"\n",
    "OPTIMIZER = \"Adam\"\n",
    "METRICS = [\"accuracy\"]"
   ]
  },
  {
   "cell_type": "markdown",
   "id": "a9724e38-e53e-44d4-a330-5692b7cd8adb",
   "metadata": {},
   "source": [
    "## Q14. Compile the model with the specified loss function, optimizer, and metrics."
   ]
  },
  {
   "cell_type": "code",
   "execution_count": 31,
   "id": "0bed66b4-5c6a-4780-b4f3-5f33a95203ee",
   "metadata": {},
   "outputs": [],
   "source": [
    "model_clf.compile(loss=LOSS_FUNCTION,\n",
    "              optimizer=OPTIMIZER,\n",
    "              metrics=METRICS)"
   ]
  },
  {
   "cell_type": "markdown",
   "id": "80128363-a5a0-451e-8592-48d623c931d7",
   "metadata": {},
   "source": [
    "## Q15. Fit the model to the data, incorporating the TensorBoard, Early Stopping, and ModelCheckpoint callbacks."
   ]
  },
  {
   "cell_type": "code",
   "execution_count": 35,
   "id": "0164158b-85ac-48d6-867d-4e79b75d02f9",
   "metadata": {},
   "outputs": [
    {
     "name": "stdout",
     "output_type": "stream",
     "text": [
      "Epoch 1/10\n",
      "26/26 [==============================] - 0s 6ms/step - loss: 0.1168 - accuracy: 0.9669 - val_loss: 0.9945 - val_accuracy: 0.7206\n",
      "Epoch 2/10\n",
      "26/26 [==============================] - 0s 4ms/step - loss: 0.1098 - accuracy: 0.9669 - val_loss: 1.0073 - val_accuracy: 0.7353\n",
      "Epoch 3/10\n",
      "26/26 [==============================] - 0s 4ms/step - loss: 0.0982 - accuracy: 0.9718 - val_loss: 0.9598 - val_accuracy: 0.7279\n",
      "Epoch 4/10\n",
      "26/26 [==============================] - 0s 3ms/step - loss: 0.0966 - accuracy: 0.9767 - val_loss: 0.9997 - val_accuracy: 0.7463\n",
      "Epoch 5/10\n",
      "26/26 [==============================] - 0s 5ms/step - loss: 0.1003 - accuracy: 0.9767 - val_loss: 1.0030 - val_accuracy: 0.7390\n"
     ]
    }
   ],
   "source": [
    "CALLBACKS = [early_stopping_cb,early_stopping_cb,checkpoint_cb]\n",
    "history = model_clf.fit(X_train, y_train, epochs=10, validation_data=(X_val, y_val), callbacks= CALLBACKS )"
   ]
  },
  {
   "cell_type": "markdown",
   "id": "4ce24573-5fa8-4573-8eec-b54b32a565cc",
   "metadata": {},
   "source": [
    "## Q16. Get the model's parameters."
   ]
  },
  {
   "cell_type": "code",
   "execution_count": 36,
   "id": "f8933265-2f86-4644-9cff-53aaba9be84d",
   "metadata": {},
   "outputs": [
    {
     "data": {
      "text/plain": [
       "{'verbose': 1, 'epochs': 10, 'steps': 26}"
      ]
     },
     "execution_count": 36,
     "metadata": {},
     "output_type": "execute_result"
    }
   ],
   "source": [
    "history.params"
   ]
  },
  {
   "cell_type": "markdown",
   "id": "f50f3174-61ee-4d71-8c56-b9b88a643e09",
   "metadata": {},
   "source": [
    "## Q17. Store the model's training history as a Pandas DataFrame."
   ]
  },
  {
   "cell_type": "code",
   "execution_count": 37,
   "id": "170ec515-8bfc-4a80-9d3a-32d60a935757",
   "metadata": {},
   "outputs": [
    {
     "data": {
      "text/html": [
       "<div>\n",
       "<style scoped>\n",
       "    .dataframe tbody tr th:only-of-type {\n",
       "        vertical-align: middle;\n",
       "    }\n",
       "\n",
       "    .dataframe tbody tr th {\n",
       "        vertical-align: top;\n",
       "    }\n",
       "\n",
       "    .dataframe thead th {\n",
       "        text-align: right;\n",
       "    }\n",
       "</style>\n",
       "<table border=\"1\" class=\"dataframe\">\n",
       "  <thead>\n",
       "    <tr style=\"text-align: right;\">\n",
       "      <th></th>\n",
       "      <th>loss</th>\n",
       "      <th>accuracy</th>\n",
       "      <th>val_loss</th>\n",
       "      <th>val_accuracy</th>\n",
       "    </tr>\n",
       "  </thead>\n",
       "  <tbody>\n",
       "    <tr>\n",
       "      <th>0</th>\n",
       "      <td>0.116839</td>\n",
       "      <td>0.966871</td>\n",
       "      <td>0.994482</td>\n",
       "      <td>0.720588</td>\n",
       "    </tr>\n",
       "    <tr>\n",
       "      <th>1</th>\n",
       "      <td>0.109765</td>\n",
       "      <td>0.966871</td>\n",
       "      <td>1.007289</td>\n",
       "      <td>0.735294</td>\n",
       "    </tr>\n",
       "    <tr>\n",
       "      <th>2</th>\n",
       "      <td>0.098249</td>\n",
       "      <td>0.971779</td>\n",
       "      <td>0.959846</td>\n",
       "      <td>0.727941</td>\n",
       "    </tr>\n",
       "    <tr>\n",
       "      <th>3</th>\n",
       "      <td>0.096595</td>\n",
       "      <td>0.976687</td>\n",
       "      <td>0.999691</td>\n",
       "      <td>0.746324</td>\n",
       "    </tr>\n",
       "    <tr>\n",
       "      <th>4</th>\n",
       "      <td>0.100292</td>\n",
       "      <td>0.976687</td>\n",
       "      <td>1.002952</td>\n",
       "      <td>0.738971</td>\n",
       "    </tr>\n",
       "  </tbody>\n",
       "</table>\n",
       "</div>"
      ],
      "text/plain": [
       "       loss  accuracy  val_loss  val_accuracy\n",
       "0  0.116839  0.966871  0.994482      0.720588\n",
       "1  0.109765  0.966871  1.007289      0.735294\n",
       "2  0.098249  0.971779  0.959846      0.727941\n",
       "3  0.096595  0.976687  0.999691      0.746324\n",
       "4  0.100292  0.976687  1.002952      0.738971"
      ]
     },
     "execution_count": 37,
     "metadata": {},
     "output_type": "execute_result"
    }
   ],
   "source": [
    "pd.DataFrame(history.history)"
   ]
  },
  {
   "cell_type": "markdown",
   "id": "1dbe66c3-48b1-4ae4-993f-39ee469a335b",
   "metadata": {},
   "source": [
    "## Q18. Plot the model's training history."
   ]
  },
  {
   "cell_type": "code",
   "execution_count": 38,
   "id": "41f3dd01-e4e9-4970-9965-c8b535969320",
   "metadata": {},
   "outputs": [
    {
     "data": {
      "text/plain": [
       "<AxesSubplot: >"
      ]
     },
     "execution_count": 38,
     "metadata": {},
     "output_type": "execute_result"
    },
    {
     "data": {
      "image/png": "[encoded data removed]",
      "text/plain": [
       "<Figure size 640x480 with 1 Axes>"
      ]
     },
     "metadata": {},
     "output_type": "display_data"
    }
   ],
   "source": [
    "pd.DataFrame(history.history).plot()"
   ]
  },
  {
   "cell_type": "markdown",
   "id": "e3ed8d15-3b82-4a67-8e02-850604b62b43",
   "metadata": {},
   "source": [
    "## Q19. Evaluate the model's performance using the test data."
   ]
  },
  {
   "cell_type": "code",
   "execution_count": 39,
   "id": "63f734e1-70b8-430c-8948-0c534c5cea32",
   "metadata": {},
   "outputs": [
    {
     "name": "stdout",
     "output_type": "stream",
     "text": [
      "9/9 [==============================] - 0s 2ms/step - loss: 0.9187 - accuracy: 0.6985\n"
     ]
    },
    {
     "data": {
      "text/plain": [
       "[0.9186752438545227, 0.6985294222831726]"
      ]
     },
     "execution_count": 39,
     "metadata": {},
     "output_type": "execute_result"
    }
   ],
   "source": [
    "model_clf.evaluate(X_test,y_test)"
   ]
  },
  {
   "cell_type": "code",
   "execution_count": 40,
   "id": "bdf9ab74-f14d-41f3-8c34-58c8f3a0e048",
   "metadata": {},
   "outputs": [],
   "source": [
    "x_new = X_test[:10]"
   ]
  },
  {
   "cell_type": "code",
   "execution_count": 41,
   "id": "de5f611b-15e6-45ba-9c45-8a1f928d7d5b",
   "metadata": {},
   "outputs": [
    {
     "data": {
      "text/plain": [
       "55      0\n",
       "1291    1\n",
       "1544    1\n",
       "593     0\n",
       "1261    0\n",
       "491     1\n",
       "1004    0\n",
       "889     0\n",
       "1154    1\n",
       "824     0\n",
       "Name: quality, dtype: int64"
      ]
     },
     "execution_count": 41,
     "metadata": {},
     "output_type": "execute_result"
    }
   ],
   "source": [
    "actual = y_test[:10]\n",
    "actual"
   ]
  },
  {
   "cell_type": "code",
   "execution_count": 42,
   "id": "297801b3-f788-4884-aa9e-931e04687253",
   "metadata": {},
   "outputs": [
    {
     "name": "stdout",
     "output_type": "stream",
     "text": [
      "1/1 [==============================] - 0s 102ms/step\n"
     ]
    },
    {
     "data": {
      "text/plain": [
       "array([[1.5301738e-03],\n",
       "       [9.9927676e-01],\n",
       "       [9.9999994e-01],\n",
       "       [4.5559581e-02],\n",
       "       [8.5324794e-01],\n",
       "       [9.9999994e-01],\n",
       "       [3.4621712e-02],\n",
       "       [4.5543964e-04],\n",
       "       [9.9869567e-01],\n",
       "       [1.5015076e-01]], dtype=float32)"
      ]
     },
     "execution_count": 42,
     "metadata": {},
     "output_type": "execute_result"
    }
   ],
   "source": [
    "y_prob = model_clf.predict(x_new)\n",
    "y_prob"
   ]
  },
  {
   "cell_type": "code",
   "execution_count": 43,
   "id": "3767aabe-bf74-4d63-8504-6b9e1751be61",
   "metadata": {},
   "outputs": [
    {
     "data": {
      "text/plain": [
       "array([[0.002],\n",
       "       [0.999],\n",
       "       [1.   ],\n",
       "       [0.046],\n",
       "       [0.853],\n",
       "       [1.   ],\n",
       "       [0.035],\n",
       "       [0.   ],\n",
       "       [0.999],\n",
       "       [0.15 ]], dtype=float32)"
      ]
     },
     "execution_count": 43,
     "metadata": {},
     "output_type": "execute_result"
    }
   ],
   "source": [
    "y_prob.round(3)"
   ]
  },
  {
   "cell_type": "code",
   "execution_count": 44,
   "id": "c94c55b2-607e-4d88-98a1-857112039b05",
   "metadata": {},
   "outputs": [],
   "source": [
    "# Predict with threshold set as 0.5\n",
    "thr = 0.5\n",
    "ypred = []\n",
    "for i in y_prob:\n",
    "    if i>=0.5:\n",
    "        ypred.append(1)\n",
    "    else:\n",
    "        ypred.append(0)"
   ]
  },
  {
   "cell_type": "code",
   "execution_count": 45,
   "id": "25541419-d184-4773-9329-c4081a2c9cac",
   "metadata": {},
   "outputs": [
    {
     "data": {
      "text/plain": [
       "55      0\n",
       "1291    1\n",
       "1544    1\n",
       "593     0\n",
       "1261    0\n",
       "491     1\n",
       "1004    0\n",
       "889     0\n",
       "1154    1\n",
       "824     0\n",
       "Name: quality, dtype: int64"
      ]
     },
     "execution_count": 45,
     "metadata": {},
     "output_type": "execute_result"
    }
   ],
   "source": [
    "actual"
   ]
  },
  {
   "cell_type": "code",
   "execution_count": 46,
   "id": "77734fcd-77e2-48cd-82dc-be41caf02cec",
   "metadata": {},
   "outputs": [
    {
     "data": {
      "text/plain": [
       "[0, 1, 1, 0, 1, 1, 0, 0, 1, 0]"
      ]
     },
     "execution_count": 46,
     "metadata": {},
     "output_type": "execute_result"
    }
   ],
   "source": [
    "ypred"
   ]
  },
  {
   "cell_type": "code",
   "execution_count": 47,
   "id": "5986d040-2602-44e9-afd0-77ae442503d1",
   "metadata": {},
   "outputs": [
    {
     "data": {
      "text/plain": [
       "[0, 1, 1, 0, 0, 1, 0, 0, 1, 0]"
      ]
     },
     "execution_count": 47,
     "metadata": {},
     "output_type": "execute_result"
    }
   ],
   "source": [
    "actual = list(actual)\n",
    "actual"
   ]
  },
  {
   "cell_type": "markdown",
   "id": "d6772e65-a4de-4d18-8090-670fd21dea37",
   "metadata": {},
   "source": [
    "## The actual and predicted values are very close indicating our model created is good"
   ]
  },
  {
   "cell_type": "code",
   "execution_count": null,
   "id": "07170503-8cdb-4d17-a901-7c83e87fd831",
   "metadata": {},
   "outputs": [],
   "source": []
  }
 ],
 "metadata": {
  "kernelspec": {
   "display_name": "Python 3 (ipykernel)",
   "language": "python",
   "name": "python3"
  },
  "language_info": {
   "codemirror_mode": {
    "name": "ipython",
    "version": 3
   },
   "file_extension": ".py",
   "mimetype": "text/x-python",
   "name": "python",
   "nbconvert_exporter": "python",
   "pygments_lexer": "ipython3",
   "version": "3.10.8"
  }
 },
 "nbformat": 4,
 "nbformat_minor": 5
}
